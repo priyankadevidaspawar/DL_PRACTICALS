{
  "nbformat": 4,
  "nbformat_minor": 0,
  "metadata": {
    "colab": {
      "provenance": [],
      "authorship_tag": "ABX9TyN4TkRbVvCEeTzMAoGDkj4R",
      "include_colab_link": true
    },
    "kernelspec": {
      "name": "python3",
      "display_name": "Python 3"
    },
    "language_info": {
      "name": "python"
    }
  },
  "cells": [
    {
      "cell_type": "markdown",
      "metadata": {
        "id": "view-in-github",
        "colab_type": "text"
      },
      "source": [
        "<a href=\"https://colab.research.google.com/github/priyankadevidaspawar/DL_PRACTICALS/blob/main/Text_Processing_For_NLP_Text_Processing.ipynb\" target=\"_parent\"><img src=\"https://colab.research.google.com/assets/colab-badge.svg\" alt=\"Open In Colab\"/></a>"
      ]
    },
    {
      "cell_type": "code",
      "execution_count": 1,
      "metadata": {
        "id": "dY4fJUKLRTaU"
      },
      "outputs": [],
      "source": [
        "#import libraries\n",
        "import re\n",
        "import nltk\n",
        "from nltk.tokenize import word_tokenize, sent_tokenize\n",
        "from nltk.corpus import stopwords\n",
        "from nltk.stem import PorterStemmer, WordNetLemmatizer"
      ]
    },
    {
      "cell_type": "code",
      "source": [
        "sample_text = \"\"\"\n",
        "Artificial intelligence refers to computer systems that can perform tasks commonly associated with human cognitive functions — such as interpreting speech,\n",
        "playing games and identifying patterns.\n",
        "Typically, AI systems learn how to do so by processing massive amounts of data and looking for patterns to model\n",
        " in their own decision-making. In many cases, humans will supervise an AI’s learning process, reinforcing good decisions\n",
        "and discouraging bad ones. But some AI systems are designed to learn without supervision;\n",
        "for instance, by playing a game over and over until they eventually figure out the rules and how to win.\n",
        "\"\"\"\n"
      ],
      "metadata": {
        "id": "ZoH6vsXvRj42"
      },
      "execution_count": 2,
      "outputs": []
    },
    {
      "cell_type": "code",
      "source": [
        "## Tokenization\n",
        "import nltk\n",
        "nltk.download('punkt')\n",
        "nltk.download('stopwords')\n",
        "nltk.download('wordnet')"
      ],
      "metadata": {
        "colab": {
          "base_uri": "https://localhost:8080/"
        },
        "id": "N0w493rESJBi",
        "outputId": "9e784e8a-757c-4c43-a151-0a6f92a174b9"
      },
      "execution_count": 3,
      "outputs": [
        {
          "output_type": "stream",
          "name": "stderr",
          "text": [
            "[nltk_data] Downloading package punkt to /root/nltk_data...\n",
            "[nltk_data]   Unzipping tokenizers/punkt.zip.\n",
            "[nltk_data] Downloading package stopwords to /root/nltk_data...\n",
            "[nltk_data]   Unzipping corpora/stopwords.zip.\n",
            "[nltk_data] Downloading package wordnet to /root/nltk_data...\n"
          ]
        },
        {
          "output_type": "execute_result",
          "data": {
            "text/plain": [
              "True"
            ]
          },
          "metadata": {},
          "execution_count": 3
        }
      ]
    },
    {
      "cell_type": "code",
      "source": [
        "sentences = sent_tokenize(sample_text)\n",
        "words = [word_tokenize(sentence) for sentence in sentences]"
      ],
      "metadata": {
        "id": "h9W_r8EQSTeb"
      },
      "execution_count": 4,
      "outputs": []
    },
    {
      "cell_type": "code",
      "source": [
        "## Lowercasing and Removing Special Characters\n",
        "cleaned_words = [[re.sub(r'[^a-zA-Z0-9]', '', word.lower()) for word in sentence] for sentence in words]"
      ],
      "metadata": {
        "id": "ROHXyiEvSZHs"
      },
      "execution_count": 5,
      "outputs": []
    },
    {
      "cell_type": "code",
      "source": [
        "# Removing Stopwords\n",
        "stop_words = set(stopwords.words('english'))\n",
        "filtered_words = [[word for word in sentence if word not in stop_words] for sentence in cleaned_words]"
      ],
      "metadata": {
        "id": "htlTGnieSiHD"
      },
      "execution_count": 6,
      "outputs": []
    },
    {
      "cell_type": "code",
      "source": [
        "# Stemming and Lemmatization\n",
        "stemmer = PorterStemmer()\n",
        "lemmatizer = WordNetLemmatizer()\n",
        "\n",
        "stemmed_words = [[stemmer.stem(word) for word in sentence] for sentence in filtered_words]\n",
        "lemmatized_words = [[lemmatizer.lemmatize(word) for word in sentence] for sentence in filtered_words]"
      ],
      "metadata": {
        "id": "v77tTnC_Sqf0"
      },
      "execution_count": 7,
      "outputs": []
    },
    {
      "cell_type": "code",
      "source": [
        "# Printing Processed Sentences\n",
        "print(\"Original Sentences:\")\n",
        "for sentence in sentences:\n",
        "    print(sentence)\n",
        "\n",
        "print(\"\\nProcessed Sentences (Lemmatized):\")\n",
        "for sentence in lemmatized_words:\n",
        "    print(' '.join(sentence))"
      ],
      "metadata": {
        "colab": {
          "base_uri": "https://localhost:8080/"
        },
        "id": "p5t3YebcSzjb",
        "outputId": "4edfe950-90c5-4fc5-ff08-0cda058d0600"
      },
      "execution_count": 8,
      "outputs": [
        {
          "output_type": "stream",
          "name": "stdout",
          "text": [
            "Original Sentences:\n",
            "\n",
            "Artificial intelligence refers to computer systems that can perform tasks commonly associated with human cognitive functions — such as interpreting speech, \n",
            "playing games and identifying patterns.\n",
            "Typically, AI systems learn how to do so by processing massive amounts of data and looking for patterns to model\n",
            " in their own decision-making.\n",
            "In many cases, humans will supervise an AI’s learning process, reinforcing good decisions\n",
            "and discouraging bad ones.\n",
            "But some AI systems are designed to learn without supervision; \n",
            "for instance, by playing a game over and over until they eventually figure out the rules and how to win.\n",
            "\n",
            "Processed Sentences (Lemmatized):\n",
            "artificial intelligence refers computer system perform task commonly associated human cognitive function  interpreting speech  playing game identifying pattern \n",
            "typically  ai system learn processing massive amount data looking pattern model decisionmaking \n",
            "many case  human supervise ai  learning process  reinforcing good decision discouraging bad one \n",
            "ai system designed learn without supervision  instance  playing game eventually figure rule win \n"
          ]
        }
      ]
    },
    {
      "cell_type": "code",
      "source": [],
      "metadata": {
        "id": "ar4extE6S8Nq"
      },
      "execution_count": null,
      "outputs": []
    }
  ]
}