{
  "nbformat": 4,
  "nbformat_minor": 0,
  "metadata": {
    "colab": {
      "provenance": [],
      "authorship_tag": "ABX9TyMG+zYxH5sxo/mF/IRt6tLO",
      "include_colab_link": true
    },
    "kernelspec": {
      "name": "python3",
      "display_name": "Python 3"
    },
    "language_info": {
      "name": "python"
    }
  },
  "cells": [
    {
      "cell_type": "markdown",
      "metadata": {
        "id": "view-in-github",
        "colab_type": "text"
      },
      "source": [
        "<a href=\"https://colab.research.google.com/github/priyankadevidaspawar/DL_PRACTICALS/blob/main/Text_Processing_For_NLP_Frequency_Distribution.ipynb\" target=\"_parent\"><img src=\"https://colab.research.google.com/assets/colab-badge.svg\" alt=\"Open In Colab\"/></a>"
      ]
    },
    {
      "cell_type": "code",
      "execution_count": 1,
      "metadata": {
        "id": "aRq9MhfP5O2i"
      },
      "outputs": [],
      "source": [
        "from collections import Counter"
      ]
    },
    {
      "cell_type": "code",
      "source": [
        "# Sample text\n",
        "text = \"This is a sample text. It contains some words. This text is used for frequency distribution example.\""
      ],
      "metadata": {
        "id": "ZR1nL5zZIO_c"
      },
      "execution_count": 2,
      "outputs": []
    },
    {
      "cell_type": "code",
      "source": [
        "print(\"Tokenization\")\n",
        "words = text.split()\n",
        "print(\"Tokenized words:\", words)\n",
        "print()"
      ],
      "metadata": {
        "colab": {
          "base_uri": "https://localhost:8080/"
        },
        "id": "Eh6VNGF8IUCY",
        "outputId": "5cad3196-c9a2-4bed-aa7a-bf1993ce8e08"
      },
      "execution_count": 3,
      "outputs": [
        {
          "output_type": "stream",
          "name": "stdout",
          "text": [
            "Tokenization\n",
            "Tokenized words: ['This', 'is', 'a', 'sample', 'text.', 'It', 'contains', 'some', 'words.', 'This', 'text', 'is', 'used', 'for', 'frequency', 'distribution', 'example.']\n",
            "\n"
          ]
        }
      ]
    },
    {
      "cell_type": "code",
      "source": [
        "print(\"Calculating word frequency\")\n",
        "word_frequency = Counter(words)\n",
        "print(\"Word frequency:\", word_frequency)\n",
        "print()"
      ],
      "metadata": {
        "colab": {
          "base_uri": "https://localhost:8080/"
        },
        "id": "yi8l6qzZIXFo",
        "outputId": "ecf8304e-6293-494b-d5ee-3697cbd85cad"
      },
      "execution_count": 4,
      "outputs": [
        {
          "output_type": "stream",
          "name": "stdout",
          "text": [
            "Calculating word frequency\n",
            "Word frequency: Counter({'This': 2, 'is': 2, 'a': 1, 'sample': 1, 'text.': 1, 'It': 1, 'contains': 1, 'some': 1, 'words.': 1, 'text': 1, 'used': 1, 'for': 1, 'frequency': 1, 'distribution': 1, 'example.': 1})\n",
            "\n"
          ]
        }
      ]
    },
    {
      "cell_type": "code",
      "source": [
        "print(\"Displaying the frequency distribution\")\n",
        "print(\"Word\\t\\tFrequency\")\n",
        "print(\"------------------------\")\n",
        "for word, frequency in word_frequency.items():\n",
        "    print(f\"{word}\\t\\t{frequency}\")"
      ],
      "metadata": {
        "colab": {
          "base_uri": "https://localhost:8080/"
        },
        "id": "lLD4Z5aoIa5D",
        "outputId": "36660a97-1215-4942-bd75-e1e1aafff6d5"
      },
      "execution_count": 5,
      "outputs": [
        {
          "output_type": "stream",
          "name": "stdout",
          "text": [
            "Displaying the frequency distribution\n",
            "Word\t\tFrequency\n",
            "------------------------\n",
            "This\t\t2\n",
            "is\t\t2\n",
            "a\t\t1\n",
            "sample\t\t1\n",
            "text.\t\t1\n",
            "It\t\t1\n",
            "contains\t\t1\n",
            "some\t\t1\n",
            "words.\t\t1\n",
            "text\t\t1\n",
            "used\t\t1\n",
            "for\t\t1\n",
            "frequency\t\t1\n",
            "distribution\t\t1\n",
            "example.\t\t1\n"
          ]
        }
      ]
    },
    {
      "cell_type": "code",
      "source": [],
      "metadata": {
        "id": "H4XPD3gLIfcs"
      },
      "execution_count": null,
      "outputs": []
    }
  ]
}