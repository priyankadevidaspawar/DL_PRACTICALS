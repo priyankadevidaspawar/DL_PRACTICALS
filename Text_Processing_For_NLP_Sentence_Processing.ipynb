{
  "nbformat": 4,
  "nbformat_minor": 0,
  "metadata": {
    "colab": {
      "provenance": [],
      "authorship_tag": "ABX9TyNNdoarcAFAEr2nkIGhtTBL",
      "include_colab_link": true
    },
    "kernelspec": {
      "name": "python3",
      "display_name": "Python 3"
    },
    "language_info": {
      "name": "python"
    }
  },
  "cells": [
    {
      "cell_type": "markdown",
      "metadata": {
        "id": "view-in-github",
        "colab_type": "text"
      },
      "source": [
        "<a href=\"https://colab.research.google.com/github/priyankadevidaspawar/DL_PRACTICALS/blob/main/Text_Processing_For_NLP_Sentence_Processing.ipynb\" target=\"_parent\"><img src=\"https://colab.research.google.com/assets/colab-badge.svg\" alt=\"Open In Colab\"/></a>"
      ]
    },
    {
      "cell_type": "code",
      "execution_count": 1,
      "metadata": {
        "id": "1qqPukMunMFo"
      },
      "outputs": [],
      "source": [
        "import nltk\n",
        "from nltk.tokenize import sent_tokenize"
      ]
    },
    {
      "cell_type": "code",
      "source": [
        "text = \"This is the first sentence. Here comes the second sentence. Finally, the third sentence.\""
      ],
      "metadata": {
        "id": "mkWxAvSEnRrt"
      },
      "execution_count": 2,
      "outputs": []
    },
    {
      "cell_type": "markdown",
      "source": [
        "Tokenize into sentences"
      ],
      "metadata": {
        "id": "B1MYkwuSnZHs"
      }
    },
    {
      "cell_type": "code",
      "source": [
        "nltk.download('punkt')\n",
        "\n",
        "print(\"Tokenize into sentences\")\n",
        "sentences = sent_tokenize(text)\n",
        "print(\"Tokenized sentences:\", sentences)\n",
        "print()"
      ],
      "metadata": {
        "colab": {
          "base_uri": "https://localhost:8080/"
        },
        "id": "ErmEoLvmnUqR",
        "outputId": "23740020-8366-40d0-fbcb-a5763d855aa8"
      },
      "execution_count": 4,
      "outputs": [
        {
          "output_type": "stream",
          "name": "stderr",
          "text": [
            "[nltk_data] Downloading package punkt to /root/nltk_data...\n",
            "[nltk_data]   Unzipping tokenizers/punkt.zip.\n"
          ]
        },
        {
          "output_type": "stream",
          "name": "stdout",
          "text": [
            "Tokenize into sentences\n",
            "Tokenized sentences: ['This is the first sentence.', 'Here comes the second sentence.', 'Finally, the third sentence.']\n",
            "\n"
          ]
        }
      ]
    },
    {
      "cell_type": "markdown",
      "source": [
        "##Count sentences"
      ],
      "metadata": {
        "id": "asxglzhqnxxd"
      }
    },
    {
      "cell_type": "code",
      "source": [
        "print(\"Count sentences\")\n",
        "num_sentences = len(sentences)\n",
        "print(\"Number of sentences:\", num_sentences)\n",
        "print()"
      ],
      "metadata": {
        "colab": {
          "base_uri": "https://localhost:8080/"
        },
        "id": "CIxYrJZ7nemj",
        "outputId": "d2f7ed47-ea57-4cc8-9e0a-044a024ddff5"
      },
      "execution_count": 5,
      "outputs": [
        {
          "output_type": "stream",
          "name": "stdout",
          "text": [
            "Count sentences\n",
            "Number of sentences: 3\n",
            "\n"
          ]
        }
      ]
    },
    {
      "cell_type": "markdown",
      "source": [
        "##Finding the longest sentence"
      ],
      "metadata": {
        "id": "B_WkxhCUn8Ev"
      }
    },
    {
      "cell_type": "code",
      "source": [
        "print(\"Finding the longest sentence\")\n",
        "longest_sentence = max(sentences, key=len)\n",
        "print(\"Longest sentence:\", longest_sentence)\n",
        "print()"
      ],
      "metadata": {
        "colab": {
          "base_uri": "https://localhost:8080/"
        },
        "id": "TYk5asmpn20V",
        "outputId": "8769a5c1-c066-4c01-a024-2b2ee8ef5ee3"
      },
      "execution_count": 6,
      "outputs": [
        {
          "output_type": "stream",
          "name": "stdout",
          "text": [
            "Finding the longest sentence\n",
            "Longest sentence: Here comes the second sentence.\n",
            "\n"
          ]
        }
      ]
    },
    {
      "cell_type": "code",
      "source": [
        "print(\"Removing punctuation from sentences\")\n",
        "import string\n",
        "\n",
        "def remove_punctuation(sentence):\n",
        "    translator = str.maketrans(\"\", \"\", string.punctuation)\n",
        "    return sentence.translate(translator)\n",
        "\n",
        "cleaned_sentences = [remove_punctuation(sentence) for sentence in sentences]\n",
        "print(\"Sentences without punctuation:\", cleaned_sentences)"
      ],
      "metadata": {
        "colab": {
          "base_uri": "https://localhost:8080/"
        },
        "id": "BadTNquGoFPR",
        "outputId": "420d2254-38ee-4495-d053-6526a41858eb"
      },
      "execution_count": 7,
      "outputs": [
        {
          "output_type": "stream",
          "name": "stdout",
          "text": [
            "Removing punctuation from sentences\n",
            "Sentences without punctuation: ['This is the first sentence', 'Here comes the second sentence', 'Finally the third sentence']\n"
          ]
        }
      ]
    }
  ]
}