{
  "nbformat": 4,
  "nbformat_minor": 0,
  "metadata": {
    "colab": {
      "provenance": [],
      "authorship_tag": "ABX9TyPVDvgtS8W3E39E3b62hfTr",
      "include_colab_link": true
    },
    "kernelspec": {
      "name": "python3",
      "display_name": "Python 3"
    },
    "language_info": {
      "name": "python"
    }
  },
  "cells": [
    {
      "cell_type": "markdown",
      "metadata": {
        "id": "view-in-github",
        "colab_type": "text"
      },
      "source": [
        "<a href=\"https://colab.research.google.com/github/priyankadevidaspawar/DL_PRACTICALS/blob/main/Text_Processing_For_NLP_Co_Occurrence_Vectors.ipynb\" target=\"_parent\"><img src=\"https://colab.research.google.com/assets/colab-badge.svg\" alt=\"Open In Colab\"/></a>"
      ]
    },
    {
      "cell_type": "code",
      "execution_count": 1,
      "metadata": {
        "colab": {
          "base_uri": "https://localhost:8080/"
        },
        "id": "iudwQUL-xcv6",
        "outputId": "180d64d5-7667-4db3-e826-d823d66074fc"
      },
      "outputs": [
        {
          "output_type": "stream",
          "name": "stderr",
          "text": [
            "[nltk_data] Downloading package punkt to /root/nltk_data...\n",
            "[nltk_data]   Unzipping tokenizers/punkt.zip.\n"
          ]
        },
        {
          "output_type": "execute_result",
          "data": {
            "text/plain": [
              "True"
            ]
          },
          "metadata": {},
          "execution_count": 1
        }
      ],
      "source": [
        "import numpy as np\n",
        "from collections import defaultdict\n",
        "from nltk.tokenize import word_tokenize, sent_tokenize\n",
        "import nltk\n",
        "nltk.download('punkt')"
      ]
    },
    {
      "cell_type": "code",
      "source": [
        "text = \"Co-occurrence vectors capture word relationships in a text corpus. They are used for various NLP tasks.\""
      ],
      "metadata": {
        "id": "IKXoxUcW44FE"
      },
      "execution_count": 2,
      "outputs": []
    },
    {
      "cell_type": "code",
      "source": [
        "print(\"Tokenize into sentences and words\")\n",
        "sentences = sent_tokenize(text)\n",
        "tokenized_sentences = [word_tokenize(sentence.lower()) for sentence in sentences]\n",
        "print(\"Tokenized sentences:\", tokenized_sentences)\n",
        "print()"
      ],
      "metadata": {
        "colab": {
          "base_uri": "https://localhost:8080/"
        },
        "id": "njsSwvEV48g7",
        "outputId": "7ca24588-92bc-41a6-940d-2b595b93a441"
      },
      "execution_count": 3,
      "outputs": [
        {
          "output_type": "stream",
          "name": "stdout",
          "text": [
            "Tokenize into sentences and words\n",
            "Tokenized sentences: [['co-occurrence', 'vectors', 'capture', 'word', 'relationships', 'in', 'a', 'text', 'corpus', '.'], ['they', 'are', 'used', 'for', 'various', 'nlp', 'tasks', '.']]\n",
            "\n"
          ]
        }
      ]
    },
    {
      "cell_type": "code",
      "source": [
        "print(\"Build co-occurrence matrix\")\n",
        "window_size = 2\n",
        "co_occurrence_matrix = defaultdict(lambda: defaultdict(int))\n",
        "\n",
        "for sentence in tokenized_sentences:\n",
        "    for i, target_word in enumerate(sentence):\n",
        "        for j in range(max(0, i - window_size), min(len(sentence), i + window_size + 1)):\n",
        "            if i != j:\n",
        "                context_word = sentence[j]\n",
        "                co_occurrence_matrix[target_word][context_word] += 1"
      ],
      "metadata": {
        "colab": {
          "base_uri": "https://localhost:8080/"
        },
        "id": "j_dJ0Vmn5AAc",
        "outputId": "eae5b11b-d5cd-4464-e362-34f6f9acafa5"
      },
      "execution_count": 4,
      "outputs": [
        {
          "output_type": "stream",
          "name": "stdout",
          "text": [
            "Build co-occurrence matrix\n"
          ]
        }
      ]
    },
    {
      "cell_type": "code",
      "source": [
        "print(\"Co-occurrence matrix:\")\n",
        "for target_word, context_words in co_occurrence_matrix.items():\n",
        "    print(target_word, context_words)\n",
        "print()"
      ],
      "metadata": {
        "colab": {
          "base_uri": "https://localhost:8080/"
        },
        "id": "Pmg0K0o05Gmc",
        "outputId": "7b99cd3d-64d9-4167-caa7-3d2c00271bde"
      },
      "execution_count": 5,
      "outputs": [
        {
          "output_type": "stream",
          "name": "stdout",
          "text": [
            "Co-occurrence matrix:\n",
            "co-occurrence defaultdict(<class 'int'>, {'vectors': 1, 'capture': 1})\n",
            "vectors defaultdict(<class 'int'>, {'co-occurrence': 1, 'capture': 1, 'word': 1})\n",
            "capture defaultdict(<class 'int'>, {'co-occurrence': 1, 'vectors': 1, 'word': 1, 'relationships': 1})\n",
            "word defaultdict(<class 'int'>, {'vectors': 1, 'capture': 1, 'relationships': 1, 'in': 1})\n",
            "relationships defaultdict(<class 'int'>, {'capture': 1, 'word': 1, 'in': 1, 'a': 1})\n",
            "in defaultdict(<class 'int'>, {'word': 1, 'relationships': 1, 'a': 1, 'text': 1})\n",
            "a defaultdict(<class 'int'>, {'relationships': 1, 'in': 1, 'text': 1, 'corpus': 1})\n",
            "text defaultdict(<class 'int'>, {'in': 1, 'a': 1, 'corpus': 1, '.': 1})\n",
            "corpus defaultdict(<class 'int'>, {'a': 1, 'text': 1, '.': 1})\n",
            ". defaultdict(<class 'int'>, {'text': 1, 'corpus': 1, 'nlp': 1, 'tasks': 1})\n",
            "they defaultdict(<class 'int'>, {'are': 1, 'used': 1})\n",
            "are defaultdict(<class 'int'>, {'they': 1, 'used': 1, 'for': 1})\n",
            "used defaultdict(<class 'int'>, {'they': 1, 'are': 1, 'for': 1, 'various': 1})\n",
            "for defaultdict(<class 'int'>, {'are': 1, 'used': 1, 'various': 1, 'nlp': 1})\n",
            "various defaultdict(<class 'int'>, {'used': 1, 'for': 1, 'nlp': 1, 'tasks': 1})\n",
            "nlp defaultdict(<class 'int'>, {'for': 1, 'various': 1, 'tasks': 1, '.': 1})\n",
            "tasks defaultdict(<class 'int'>, {'various': 1, 'nlp': 1, '.': 1})\n",
            "\n"
          ]
        }
      ]
    },
    {
      "cell_type": "code",
      "source": [],
      "metadata": {
        "id": "qvQmD7VJ5Mhf"
      },
      "execution_count": null,
      "outputs": []
    }
  ]
}