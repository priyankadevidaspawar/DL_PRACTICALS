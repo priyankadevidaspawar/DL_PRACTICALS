{
  "nbformat": 4,
  "nbformat_minor": 0,
  "metadata": {
    "colab": {
      "provenance": [],
      "authorship_tag": "ABX9TyP3wRIAqvyOj2P4mWBMJPIo",
      "include_colab_link": true
    },
    "kernelspec": {
      "name": "python3",
      "display_name": "Python 3"
    },
    "language_info": {
      "name": "python"
    }
  },
  "cells": [
    {
      "cell_type": "markdown",
      "metadata": {
        "id": "view-in-github",
        "colab_type": "text"
      },
      "source": [
        "<a href=\"https://colab.research.google.com/github/priyankadevidaspawar/DL_PRACTICALS/blob/main/Text_Processing_For_NLP_Word_Embedding.ipynb\" target=\"_parent\"><img src=\"https://colab.research.google.com/assets/colab-badge.svg\" alt=\"Open In Colab\"/></a>"
      ]
    },
    {
      "cell_type": "code",
      "execution_count": 4,
      "metadata": {
        "colab": {
          "base_uri": "https://localhost:8080/"
        },
        "id": "8DOb3Fra5Qk7",
        "outputId": "541a8031-d43a-4230-ecd2-03a1d96de13f"
      },
      "outputs": [
        {
          "output_type": "stream",
          "name": "stderr",
          "text": [
            "[nltk_data] Downloading package punkt to /root/nltk_data...\n",
            "[nltk_data]   Unzipping tokenizers/punkt.zip.\n"
          ]
        },
        {
          "output_type": "execute_result",
          "data": {
            "text/plain": [
              "True"
            ]
          },
          "metadata": {},
          "execution_count": 4
        }
      ],
      "source": [
        "from gensim.models import Word2Vec\n",
        "import nltk\n",
        "from nltk.tokenize import word_tokenize, sent_tokenize\n",
        "nltk.download('punkt')\n"
      ]
    },
    {
      "cell_type": "code",
      "source": [
        "text = \"Word embeddings are essential in NLP tasks. They capture semantic relationships between words.\""
      ],
      "metadata": {
        "id": "PcgWomk38AQ1"
      },
      "execution_count": 5,
      "outputs": []
    },
    {
      "cell_type": "code",
      "source": [
        "print(\"Tokenize into sentences and words\")\n",
        "sentences = sent_tokenize(text)\n",
        "tokenized_sentences = [word_tokenize(sentence.lower()) for sentence in sentences]\n",
        "print(\"Tokenized sentences:\", tokenized_sentences)\n",
        "print()"
      ],
      "metadata": {
        "colab": {
          "base_uri": "https://localhost:8080/"
        },
        "id": "FHh0sEWq8Dyr",
        "outputId": "931ae0d3-00a0-48a5-d04b-f75d59436d20"
      },
      "execution_count": 6,
      "outputs": [
        {
          "output_type": "stream",
          "name": "stdout",
          "text": [
            "Tokenize into sentences and words\n",
            "Tokenized sentences: [['word', 'embeddings', 'are', 'essential', 'in', 'nlp', 'tasks', '.'], ['they', 'capture', 'semantic', 'relationships', 'between', 'words', '.']]\n",
            "\n"
          ]
        }
      ]
    },
    {
      "cell_type": "code",
      "source": [
        "print(\"Train the Word2Vec model\")\n",
        "model = Word2Vec(tokenized_sentences, vector_size=100, window=5, min_count=1, sg=0)\n",
        "print(\"Word2Vec model trained successfully\")\n",
        "print()"
      ],
      "metadata": {
        "colab": {
          "base_uri": "https://localhost:8080/"
        },
        "id": "23kxEXtc8HCK",
        "outputId": "739ef03a-8d28-49c9-a2fc-68c59c9d7640"
      },
      "execution_count": 7,
      "outputs": [
        {
          "output_type": "stream",
          "name": "stdout",
          "text": [
            "Train the Word2Vec model\n",
            "Word2Vec model trained successfully\n",
            "\n"
          ]
        }
      ]
    },
    {
      "cell_type": "code",
      "source": [
        "print(\"Access word vectors\")\n",
        "word_vectors = model.wv\n",
        "vector = word_vectors['word']\n",
        "print(\"Vector for 'word':\", vector)\n",
        "print()"
      ],
      "metadata": {
        "colab": {
          "base_uri": "https://localhost:8080/"
        },
        "id": "Bvx4StjH8VYU",
        "outputId": "57da8add-ecf3-496e-e7f4-4b269fa28116"
      },
      "execution_count": 8,
      "outputs": [
        {
          "output_type": "stream",
          "name": "stdout",
          "text": [
            "Access word vectors\n",
            "Vector for 'word': [-0.00950012  0.00956222 -0.00777076 -0.00264551 -0.00490641 -0.0049667\n",
            " -0.00802359 -0.00778358 -0.00455321 -0.00127536 -0.00510299  0.00614054\n",
            " -0.00951662 -0.0053071   0.00943715  0.00699133  0.00767582  0.00423474\n",
            "  0.00050709 -0.00598114  0.00601878  0.00263503  0.00769943  0.00639384\n",
            "  0.00794257  0.00865741 -0.00989575 -0.0067557   0.00133757  0.0064403\n",
            "  0.00737382  0.00551698  0.00766163 -0.00512557  0.00658441 -0.00410837\n",
            " -0.00905534  0.00914168  0.0013314  -0.00275968 -0.00247784 -0.00422048\n",
            "  0.00481234  0.00440022 -0.00265336 -0.00734188 -0.00356585 -0.00033661\n",
            "  0.00609589 -0.00283734 -0.00012089  0.00087973 -0.00709565  0.002065\n",
            " -0.00143242  0.00280215  0.00484222 -0.00135202 -0.00278014  0.00773865\n",
            "  0.0050456   0.00671352  0.00451564  0.00866716  0.00747497 -0.00108189\n",
            "  0.00874764  0.00460172  0.00544063 -0.00138608 -0.00204132 -0.00442435\n",
            " -0.0085152   0.00303773  0.00888319  0.00891974 -0.00194235  0.00608616\n",
            "  0.00377972 -0.00429597  0.00204292 -0.00543789  0.00820889  0.00543291\n",
            "  0.00318443  0.00410257  0.00865715  0.00727203 -0.00083347 -0.00707277\n",
            "  0.00838047  0.00723358  0.00173047 -0.00134749 -0.00589009 -0.00453309\n",
            "  0.00864797 -0.00313511 -0.00633882  0.00987008]\n",
            "\n"
          ]
        }
      ]
    },
    {
      "cell_type": "code",
      "source": [
        "print(\"Finding similar words\")\n",
        "similar_words = model.wv.most_similar('embeddings', topn=3)\n",
        "print(\"Similar words to 'embeddings':\", similar_words)"
      ],
      "metadata": {
        "colab": {
          "base_uri": "https://localhost:8080/"
        },
        "id": "wDNaLLVR8aqt",
        "outputId": "1702a82f-565e-4d3d-c41a-1709ecffa13b"
      },
      "execution_count": 9,
      "outputs": [
        {
          "output_type": "stream",
          "name": "stdout",
          "text": [
            "Finding similar words\n",
            "Similar words to 'embeddings': [('semantic', 0.1501718908548355), ('essential', 0.12813477218151093), ('.', 0.0931011438369751)]\n"
          ]
        }
      ]
    },
    {
      "cell_type": "code",
      "source": [],
      "metadata": {
        "id": "nNYFUl_m8fbw"
      },
      "execution_count": null,
      "outputs": []
    }
  ]
}