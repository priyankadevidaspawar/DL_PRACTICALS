{
  "nbformat": 4,
  "nbformat_minor": 0,
  "metadata": {
    "colab": {
      "provenance": [],
      "authorship_tag": "ABX9TyMvg+czHXlG3dneQhPI6LV0",
      "include_colab_link": true
    },
    "kernelspec": {
      "name": "python3",
      "display_name": "Python 3"
    },
    "language_info": {
      "name": "python"
    }
  },
  "cells": [
    {
      "cell_type": "markdown",
      "metadata": {
        "id": "view-in-github",
        "colab_type": "text"
      },
      "source": [
        "<a href=\"https://colab.research.google.com/github/priyankadevidaspawar/DL_PRACTICALS/blob/main/Text_Processing_For_NLP_Lemmatization_In_Text_Processing.ipynb\" target=\"_parent\"><img src=\"https://colab.research.google.com/assets/colab-badge.svg\" alt=\"Open In Colab\"/></a>"
      ]
    },
    {
      "cell_type": "code",
      "execution_count": 10,
      "metadata": {
        "id": "yia6Zrp82-rg"
      },
      "outputs": [],
      "source": [
        "import nltk\n",
        "from nltk.tokenize import word_tokenize\n",
        "from nltk.stem import WordNetLemmatizer"
      ]
    },
    {
      "cell_type": "code",
      "source": [
        "nltk.download('punkt')\n",
        "nltk.download(\"wordnet \")"
      ],
      "metadata": {
        "colab": {
          "base_uri": "https://localhost:8080/"
        },
        "id": "NlNJ8j-b3R2r",
        "outputId": "944bbefc-0ad2-463e-dab3-3eb200e9c018"
      },
      "execution_count": 11,
      "outputs": [
        {
          "output_type": "stream",
          "name": "stderr",
          "text": [
            "[nltk_data] Downloading package punkt to /root/nltk_data...\n",
            "[nltk_data]   Package punkt is already up-to-date!\n",
            "[nltk_data] Error loading wordnet : Package 'wordnet ' not found in\n",
            "[nltk_data]     index\n"
          ]
        },
        {
          "output_type": "execute_result",
          "data": {
            "text/plain": [
              "False"
            ]
          },
          "metadata": {},
          "execution_count": 11
        }
      ]
    },
    {
      "cell_type": "code",
      "source": [
        "text = \"Lemmatization is a crucial step in text processing. It reduces words to their base forms.\""
      ],
      "metadata": {
        "id": "-zhb4E6w3Flq"
      },
      "execution_count": 12,
      "outputs": []
    },
    {
      "cell_type": "code",
      "source": [
        "##Tokenize into words\n",
        "print(\"Tokenize into words\")\n",
        "words = word_tokenize(text)\n",
        "print(\"Tokenized words:\", words)\n",
        "print()"
      ],
      "metadata": {
        "colab": {
          "base_uri": "https://localhost:8080/"
        },
        "id": "SFRSBcIr3I6x",
        "outputId": "390d77eb-63f1-4626-f732-87d257d7b62e"
      },
      "execution_count": 13,
      "outputs": [
        {
          "output_type": "stream",
          "name": "stdout",
          "text": [
            "Tokenize into words\n",
            "Tokenized words: ['Lemmatization', 'is', 'a', 'crucial', 'step', 'in', 'text', 'processing', '.', 'It', 'reduces', 'words', 'to', 'their', 'base', 'forms', '.']\n",
            "\n"
          ]
        }
      ]
    },
    {
      "cell_type": "code",
      "source": [
        "##Tokenize into words\n",
        "print(\"Tokenize into words\")\n",
        "words = word_tokenize(text)\n",
        "print(\"Tokenized words:\", words)\n",
        "print()"
      ],
      "metadata": {
        "colab": {
          "base_uri": "https://localhost:8080/"
        },
        "id": "HznIKRO63MoM",
        "outputId": "9ed39a33-a059-4edd-bb95-c352ca45bfee"
      },
      "execution_count": 14,
      "outputs": [
        {
          "output_type": "stream",
          "name": "stdout",
          "text": [
            "Tokenize into words\n",
            "Tokenized words: ['Lemmatization', 'is', 'a', 'crucial', 'step', 'in', 'text', 'processing', '.', 'It', 'reduces', 'words', 'to', 'their', 'base', 'forms', '.']\n",
            "\n"
          ]
        }
      ]
    },
    {
      "cell_type": "code",
      "source": [
        "##Initialize the lemmatizer\n",
        "print(\"Initialize the lemmatizer\")\n",
        "lemmatizer = WordNetLemmatizer()"
      ],
      "metadata": {
        "colab": {
          "base_uri": "https://localhost:8080/"
        },
        "id": "KNAnQmnl3roQ",
        "outputId": "a940538c-3193-4afd-da30-dbe1a9930caf"
      },
      "execution_count": 15,
      "outputs": [
        {
          "output_type": "stream",
          "name": "stdout",
          "text": [
            "Initialize the lemmatizer\n"
          ]
        }
      ]
    },
    {
      "cell_type": "code",
      "source": [
        "##Lemmatize words\n",
        "nltk.download('wordnet')\n",
        "print(\"Lemmatize words\")\n",
        "lemmatized_words = [lemmatizer.lemmatize(word) for word in words]\n",
        "print(\"Lemmatized words:\", lemmatized_words)"
      ],
      "metadata": {
        "colab": {
          "base_uri": "https://localhost:8080/"
        },
        "id": "PzS2RvNW3y5l",
        "outputId": "140443ba-903e-44a0-fcc4-b82c46c6613b"
      },
      "execution_count": 17,
      "outputs": [
        {
          "output_type": "stream",
          "name": "stderr",
          "text": [
            "[nltk_data] Downloading package wordnet to /root/nltk_data...\n"
          ]
        },
        {
          "output_type": "stream",
          "name": "stdout",
          "text": [
            "Lemmatize words\n",
            "Lemmatized words: ['Lemmatization', 'is', 'a', 'crucial', 'step', 'in', 'text', 'processing', '.', 'It', 'reduces', 'word', 'to', 'their', 'base', 'form', '.']\n"
          ]
        }
      ]
    },
    {
      "cell_type": "code",
      "source": [],
      "metadata": {
        "id": "vLu5igWL3_Ot"
      },
      "execution_count": null,
      "outputs": []
    }
  ]
}