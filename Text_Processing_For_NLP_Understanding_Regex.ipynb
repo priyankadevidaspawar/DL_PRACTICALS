{
  "cells": [
    {
      "cell_type": "markdown",
      "metadata": {
        "id": "view-in-github",
        "colab_type": "text"
      },
      "source": [
        "<a href=\"https://colab.research.google.com/github/priyankadevidaspawar/DL_PRACTICALS/blob/main/Text_Processing_For_NLP_Understanding_Regex.ipynb\" target=\"_parent\"><img src=\"https://colab.research.google.com/assets/colab-badge.svg\" alt=\"Open In Colab\"/></a>"
      ]
    },
    {
      "cell_type": "markdown",
      "metadata": {
        "id": "iuitFjhDolDt"
      },
      "source": [
        "# Import the 're' Module"
      ]
    },
    {
      "cell_type": "code",
      "execution_count": null,
      "metadata": {
        "id": "KlQKh0V_olD6"
      },
      "outputs": [],
      "source": [
        "import re"
      ]
    },
    {
      "cell_type": "markdown",
      "metadata": {
        "id": "raAf3EfLolEA"
      },
      "source": [
        "# Sample Text"
      ]
    },
    {
      "cell_type": "code",
      "execution_count": null,
      "metadata": {
        "id": "agVZjPaQolEC"
      },
      "outputs": [],
      "source": [
        "text = \"The quick brown fox jumps over the lazy dog.\""
      ]
    },
    {
      "cell_type": "markdown",
      "metadata": {
        "id": "xt9-fuGHolED"
      },
      "source": [
        "# Basic Regex Operations"
      ]
    },
    {
      "cell_type": "markdown",
      "metadata": {
        "id": "hmmz5dKeolEF"
      },
      "source": [
        "Regex allows you to perform various operations on text, such as searching for patterns, replacing text, and splitting strings."
      ]
    },
    {
      "cell_type": "markdown",
      "metadata": {
        "id": "luux6umjolEG"
      },
      "source": [
        "### Searching for a Pattern"
      ]
    },
    {
      "cell_type": "code",
      "execution_count": null,
      "metadata": {
        "id": "uW7VHZf-olEI",
        "outputId": "bc99f1b0-f832-46e3-a81e-2a19a0f54092"
      },
      "outputs": [
        {
          "name": "stdout",
          "output_type": "stream",
          "text": [
            "Matches: ['fox']\n"
          ]
        }
      ],
      "source": [
        "pattern = r\"fox\"\n",
        "matches = re.findall(pattern, text)\n",
        "print(\"Matches:\", matches)"
      ]
    },
    {
      "cell_type": "markdown",
      "metadata": {
        "id": "H_hqp3rFolEO"
      },
      "source": [
        "### Replacing Text"
      ]
    },
    {
      "cell_type": "code",
      "execution_count": null,
      "metadata": {
        "id": "XKFjN1NeolEP",
        "outputId": "32132aee-4de7-4ce0-d592-baa4cb69dbf9"
      },
      "outputs": [
        {
          "name": "stdout",
          "output_type": "stream",
          "text": [
            "New Text: The quick brown cat jumps over the lazy dog.\n"
          ]
        }
      ],
      "source": [
        "pattern = r\"fox\"\n",
        "replacement = \"cat\"\n",
        "new_text = re.sub(pattern, replacement, text)\n",
        "print(\"New Text:\", new_text)"
      ]
    },
    {
      "cell_type": "markdown",
      "metadata": {
        "id": "viIiAzj2olES"
      },
      "source": [
        "### Splitting Strings"
      ]
    },
    {
      "cell_type": "code",
      "execution_count": null,
      "metadata": {
        "id": "K-VV5s9-olET",
        "outputId": "db409213-0622-4ad7-d5ce-7ed7561bcb87"
      },
      "outputs": [
        {
          "name": "stdout",
          "output_type": "stream",
          "text": [
            "Split Text: ['The', 'quick', 'brown', 'fox', 'jumps', 'over', 'the', 'lazy', 'dog.']\n"
          ]
        }
      ],
      "source": [
        "pattern = r\"\\s\"  # Split on spaces\n",
        "split_text = re.split(pattern, text)\n",
        "print(\"Split Text:\", split_text)"
      ]
    },
    {
      "cell_type": "markdown",
      "metadata": {
        "id": "oc4fGTzqolEU"
      },
      "source": [
        "# Character Classes and Quantifiers"
      ]
    },
    {
      "cell_type": "markdown",
      "metadata": {
        "id": "klEqSDXTolEV"
      },
      "source": [
        "### Character Classes"
      ]
    },
    {
      "cell_type": "code",
      "execution_count": null,
      "metadata": {
        "id": "yLnt6wgholEW",
        "outputId": "25ea62c3-84de-4c0a-b398-34441111835f"
      },
      "outputs": [
        {
          "name": "stdout",
          "output_type": "stream",
          "text": [
            "Vowels: ['e', 'u', 'i', 'o', 'o', 'u', 'o', 'e', 'e', 'a', 'o']\n"
          ]
        }
      ],
      "source": [
        "pattern = r\"[aeiou]\"\n",
        "vowels = re.findall(pattern, text)\n",
        "print(\"Vowels:\", vowels)"
      ]
    },
    {
      "cell_type": "markdown",
      "metadata": {
        "id": "IpPc8IXnolEX"
      },
      "source": [
        "### Quantifiers"
      ]
    },
    {
      "cell_type": "code",
      "execution_count": null,
      "metadata": {
        "id": "S8nCVHwoolEY",
        "outputId": "d69635d5-a603-4683-cc2b-6f9ec5b91c3f"
      },
      "outputs": [
        {
          "name": "stdout",
          "output_type": "stream",
          "text": [
            "Matches: []\n"
          ]
        }
      ],
      "source": [
        "pattern = r\"o{2}\"  # Matches two consecutive 'o' characters\n",
        "matches = re.findall(pattern, text)\n",
        "print(\"Matches:\", matches)"
      ]
    },
    {
      "cell_type": "markdown",
      "metadata": {
        "id": "Zg-Bi6BeolEZ"
      },
      "source": [
        "# Metacharacters and Anchors"
      ]
    },
    {
      "cell_type": "markdown",
      "metadata": {
        "id": "LluZzxapolEZ"
      },
      "source": [
        "### Metacharacters"
      ]
    },
    {
      "cell_type": "code",
      "execution_count": null,
      "metadata": {
        "id": "pd7tO1O-olEa",
        "outputId": "54a57632-3b3c-484b-cce7-569ea5cfb704"
      },
      "outputs": [
        {
          "name": "stdout",
          "output_type": "stream",
          "text": [
            "Matches: ['The', 'fox', 'the', 'dog']\n"
          ]
        }
      ],
      "source": [
        "pattern = r\"\\b\\w{3}\\b\"  # Matches three-letter words\n",
        "matches = re.findall(pattern, text)\n",
        "print(\"Matches:\", matches)"
      ]
    },
    {
      "cell_type": "markdown",
      "metadata": {
        "id": "WJRXAmt6olEb"
      },
      "source": [
        "### Anchors"
      ]
    },
    {
      "cell_type": "code",
      "execution_count": null,
      "metadata": {
        "id": "HmbQii49olEc",
        "outputId": "e82bf79f-e1da-46d7-babd-19495c6109b5"
      },
      "outputs": [
        {
          "name": "stdout",
          "output_type": "stream",
          "text": [
            "Matches: ['The']\n"
          ]
        }
      ],
      "source": [
        "pattern = r\"^The\"  # Matches 'The' at the beginning of the string\n",
        "matches = re.findall(pattern, text)\n",
        "print(\"Matches:\", matches)"
      ]
    },
    {
      "cell_type": "markdown",
      "metadata": {
        "id": "83EjVSzfolEd"
      },
      "source": [
        "# Grouping and Capturing"
      ]
    },
    {
      "cell_type": "code",
      "execution_count": null,
      "metadata": {
        "id": "tgM_zRZUolEe",
        "outputId": "9bb06711-f637-439e-8497-af1c0f6a73f9"
      },
      "outputs": [
        {
          "name": "stdout",
          "output_type": "stream",
          "text": [
            "Matches: [('The', 'quick'), ('brown', 'fox'), ('jumps', 'over'), ('the', 'lazy')]\n"
          ]
        }
      ],
      "source": [
        "pattern = r\"(\\w+)\\s(\\w+)\"  # Matches two consecutive words\n",
        "matches = re.findall(pattern, text)\n",
        "print(\"Matches:\", matches)"
      ]
    },
    {
      "cell_type": "markdown",
      "metadata": {
        "id": "ezartqyqolEf"
      },
      "source": [
        "# Using Regex for Tokenization"
      ]
    },
    {
      "cell_type": "markdown",
      "metadata": {
        "id": "9I2iR1ivolEg"
      },
      "source": [
        "Regex is also useful for tokenizing text into words or sentences."
      ]
    },
    {
      "cell_type": "markdown",
      "metadata": {
        "id": "yHlo7x3kolEg"
      },
      "source": [
        "### Tokenizing into Words"
      ]
    },
    {
      "cell_type": "code",
      "execution_count": null,
      "metadata": {
        "id": "Yjtb7XABolEh",
        "outputId": "ad4a88d2-d3ac-4ad8-8bbe-c8b45f46ed47"
      },
      "outputs": [
        {
          "name": "stdout",
          "output_type": "stream",
          "text": [
            "Words: ['The', 'quick', 'brown', 'fox', 'jumps', 'over', 'the', 'lazy', 'dog.']\n"
          ]
        }
      ],
      "source": [
        "pattern = r\"\\s\"  # Split on spaces\n",
        "words = re.split(pattern, text)\n",
        "print(\"Words:\", words)"
      ]
    },
    {
      "cell_type": "markdown",
      "metadata": {
        "id": "Av2_H-d8olEi"
      },
      "source": [
        "### Tokenizing into Sentences"
      ]
    },
    {
      "cell_type": "code",
      "execution_count": null,
      "metadata": {
        "id": "glLa6roGolEi",
        "outputId": "7a9ec28e-2c1a-47f9-d3d3-8b49ca4a2bd1"
      },
      "outputs": [
        {
          "name": "stdout",
          "output_type": "stream",
          "text": [
            "Sentences: ['The quick brown fox jumps over the lazy dog.']\n"
          ]
        }
      ],
      "source": [
        "pattern = r\"\\.\\s\"  # Split after periods followed by a space\n",
        "sentences = re.split(pattern, text)\n",
        "print(\"Sentences:\", sentences)"
      ]
    },
    {
      "cell_type": "code",
      "execution_count": null,
      "metadata": {
        "id": "SC56DJTmolEj"
      },
      "outputs": [],
      "source": []
    }
  ],
  "metadata": {
    "kernelspec": {
      "display_name": "Python 3",
      "language": "python",
      "name": "python3"
    },
    "language_info": {
      "codemirror_mode": {
        "name": "ipython",
        "version": 3
      },
      "file_extension": ".py",
      "mimetype": "text/x-python",
      "name": "python",
      "nbconvert_exporter": "python",
      "pygments_lexer": "ipython3",
      "version": "3.8.5"
    },
    "colab": {
      "provenance": [],
      "include_colab_link": true
    }
  },
  "nbformat": 4,
  "nbformat_minor": 0
}