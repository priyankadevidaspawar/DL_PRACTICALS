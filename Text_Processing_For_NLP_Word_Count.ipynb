{
  "nbformat": 4,
  "nbformat_minor": 0,
  "metadata": {
    "colab": {
      "provenance": [],
      "authorship_tag": "ABX9TyP3W+ueW3eBrwh1z+VKTdYP",
      "include_colab_link": true
    },
    "kernelspec": {
      "name": "python3",
      "display_name": "Python 3"
    },
    "language_info": {
      "name": "python"
    }
  },
  "cells": [
    {
      "cell_type": "markdown",
      "metadata": {
        "id": "view-in-github",
        "colab_type": "text"
      },
      "source": [
        "<a href=\"https://colab.research.google.com/github/priyankadevidaspawar/DL_PRACTICALS/blob/main/Text_Processing_For_NLP_Word_Count.ipynb\" target=\"_parent\"><img src=\"https://colab.research.google.com/assets/colab-badge.svg\" alt=\"Open In Colab\"/></a>"
      ]
    },
    {
      "cell_type": "code",
      "execution_count": 1,
      "metadata": {
        "id": "_RRilZzGzycF"
      },
      "outputs": [],
      "source": [
        "text = \"This is a sample text. It contains some words. This text is used for word count example.\""
      ]
    },
    {
      "cell_type": "code",
      "source": [
        "print(\"Tokenization\")\n",
        "words = text.split()\n",
        "print(\"Tokenized words:\", words)\n",
        "print()"
      ],
      "metadata": {
        "colab": {
          "base_uri": "https://localhost:8080/"
        },
        "id": "JqZSi0AY14_0",
        "outputId": "b1788228-a3c8-4bd8-e6f1-e2c5a5bc001a"
      },
      "execution_count": 2,
      "outputs": [
        {
          "output_type": "stream",
          "name": "stdout",
          "text": [
            "Tokenization\n",
            "Tokenized words: ['This', 'is', 'a', 'sample', 'text.', 'It', 'contains', 'some', 'words.', 'This', 'text', 'is', 'used', 'for', 'word', 'count', 'example.']\n",
            "\n"
          ]
        }
      ]
    },
    {
      "cell_type": "code",
      "source": [
        "print(\"Counting words\")\n",
        "word_count = len(words)\n",
        "print(\"Total word count:\", word_count)\n",
        "print()"
      ],
      "metadata": {
        "colab": {
          "base_uri": "https://localhost:8080/"
        },
        "id": "cBI6sIRA18r7",
        "outputId": "9e9ec567-162c-49c1-be2f-35389d8dbc30"
      },
      "execution_count": 3,
      "outputs": [
        {
          "output_type": "stream",
          "name": "stdout",
          "text": [
            "Counting words\n",
            "Total word count: 17\n",
            "\n"
          ]
        }
      ]
    },
    {
      "cell_type": "code",
      "source": [
        "print(\"Counting unique words\")\n",
        "unique_words = set(words)\n",
        "unique_word_count = len(unique_words)\n",
        "print(\"Total unique word count:\", unique_word_count)"
      ],
      "metadata": {
        "colab": {
          "base_uri": "https://localhost:8080/"
        },
        "id": "xg2V29e62Az0",
        "outputId": "cd50e18f-ab6d-4fb4-f538-2f7ca59b557b"
      },
      "execution_count": 4,
      "outputs": [
        {
          "output_type": "stream",
          "name": "stdout",
          "text": [
            "Counting unique words\n",
            "Total unique word count: 15\n"
          ]
        }
      ]
    },
    {
      "cell_type": "code",
      "source": [],
      "metadata": {
        "id": "1trRza7f2EyF"
      },
      "execution_count": null,
      "outputs": []
    }
  ]
}