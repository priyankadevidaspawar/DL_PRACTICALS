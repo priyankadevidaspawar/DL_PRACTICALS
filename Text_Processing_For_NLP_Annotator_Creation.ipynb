{
  "nbformat": 4,
  "nbformat_minor": 0,
  "metadata": {
    "colab": {
      "provenance": [],
      "authorship_tag": "ABX9TyOrTNyH45nbX0+nHvVomVfN",
      "include_colab_link": true
    },
    "kernelspec": {
      "name": "python3",
      "display_name": "Python 3"
    },
    "language_info": {
      "name": "python"
    }
  },
  "cells": [
    {
      "cell_type": "markdown",
      "metadata": {
        "id": "view-in-github",
        "colab_type": "text"
      },
      "source": [
        "<a href=\"https://colab.research.google.com/github/priyankadevidaspawar/DL_PRACTICALS/blob/main/Text_Processing_For_NLP_Annotator_Creation.ipynb\" target=\"_parent\"><img src=\"https://colab.research.google.com/assets/colab-badge.svg\" alt=\"Open In Colab\"/></a>"
      ]
    },
    {
      "cell_type": "code",
      "execution_count": 1,
      "metadata": {
        "id": "6PPXJzslJJPn"
      },
      "outputs": [],
      "source": [
        "data = [\n",
        "    (\"I love this product!\", \"positive\"),\n",
        "    (\"This is not what I expected.\", \"negative\"),\n",
        "    (\"The customer service was excellent.\", \"positive\"),\n",
        "    (\"The quality of the item is poor.\", \"negative\")\n",
        "]"
      ]
    },
    {
      "cell_type": "code",
      "source": [
        "print(\"Define the annotator\")\n",
        "\n",
        "def annotate_data(data):\n",
        "    annotated_data = []\n",
        "    for text, label in data:\n",
        "        annotated_data.append((text, label))\n",
        "    return annotated_data"
      ],
      "metadata": {
        "colab": {
          "base_uri": "https://localhost:8080/"
        },
        "id": "U-zC-BLFJNvo",
        "outputId": "33c93d97-f503-41d0-8f82-f16196b11659"
      },
      "execution_count": 2,
      "outputs": [
        {
          "output_type": "stream",
          "name": "stdout",
          "text": [
            "Define the annotator\n"
          ]
        }
      ]
    },
    {
      "cell_type": "code",
      "source": [
        "print(\"Annotate the data\")\n",
        "annotated_data = annotate_data(data)\n",
        "for text, label in annotated_data:\n",
        "    print(f\"Text: {text}\\tLabel: {label}\")"
      ],
      "metadata": {
        "colab": {
          "base_uri": "https://localhost:8080/"
        },
        "id": "oQvXdwnlJQdj",
        "outputId": "e677e70d-786b-49c3-aaba-ec4655c8c9ba"
      },
      "execution_count": 3,
      "outputs": [
        {
          "output_type": "stream",
          "name": "stdout",
          "text": [
            "Annotate the data\n",
            "Text: I love this product!\tLabel: positive\n",
            "Text: This is not what I expected.\tLabel: negative\n",
            "Text: The customer service was excellent.\tLabel: positive\n",
            "Text: The quality of the item is poor.\tLabel: negative\n"
          ]
        }
      ]
    },
    {
      "cell_type": "code",
      "source": [],
      "metadata": {
        "id": "D36EjibuJUW3"
      },
      "execution_count": null,
      "outputs": []
    }
  ]
}